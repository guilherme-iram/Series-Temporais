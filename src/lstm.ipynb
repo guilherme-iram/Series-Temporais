{
 "cells": [
  {
   "cell_type": "code",
   "execution_count": 1,
   "metadata": {},
   "outputs": [],
   "source": [
    "import numpy as np \n",
    "import pandas as pd \n",
    "from matplotlib import pyplot as plt\n",
    "import seaborn as sns\n",
    "from math import sqrt\n",
    "from sklearn.metrics import mean_squared_error\n",
    "from sklearn.preprocessing import MinMaxScaler\n",
    "from sklearn.model_selection import train_test_split\n",
    "\n",
    "from tensorflow.keras.models import Sequential\n",
    "from tensorflow.keras.layers import Dense, LSTM, Dropout, BatchNormalization\n",
    "\n",
    "import plotly.offline as py\n",
    "import plotly.graph_objs as go\n",
    "\n",
    "import keras_tuner as kt\n",
    "import tensorflow as tf\n",
    "import datetime, time\n",
    "from tensorflow import keras\n",
    "import tensorflow as tf\n",
    "import random\n",
    "from keras import backend as K\n",
    "from keras.regularizers import L1L2"
   ]
  },
  {
   "cell_type": "code",
   "execution_count": 2,
   "metadata": {},
   "outputs": [
    {
     "data": {
      "text/plain": [
       "<tensorflow.python.eager.context._EagerDeviceContext at 0x200fcfffac0>"
      ]
     },
     "execution_count": 2,
     "metadata": {},
     "output_type": "execute_result"
    }
   ],
   "source": [
    "tf.device('/device:GPU:0')"
   ]
  },
  {
   "cell_type": "code",
   "execution_count": 3,
   "metadata": {},
   "outputs": [
    {
     "data": {
      "text/html": [
       "<div>\n",
       "<style scoped>\n",
       "    .dataframe tbody tr th:only-of-type {\n",
       "        vertical-align: middle;\n",
       "    }\n",
       "\n",
       "    .dataframe tbody tr th {\n",
       "        vertical-align: top;\n",
       "    }\n",
       "\n",
       "    .dataframe thead th {\n",
       "        text-align: right;\n",
       "    }\n",
       "</style>\n",
       "<table border=\"1\" class=\"dataframe\">\n",
       "  <thead>\n",
       "    <tr style=\"text-align: right;\">\n",
       "      <th></th>\n",
       "      <th>Date</th>\n",
       "      <th>Value</th>\n",
       "    </tr>\n",
       "  </thead>\n",
       "  <tbody>\n",
       "    <tr>\n",
       "      <th>0</th>\n",
       "      <td>1970-01-01</td>\n",
       "      <td>35.2</td>\n",
       "    </tr>\n",
       "    <tr>\n",
       "      <th>1</th>\n",
       "      <td>1970-04-01</td>\n",
       "      <td>35.1</td>\n",
       "    </tr>\n",
       "    <tr>\n",
       "      <th>2</th>\n",
       "      <td>1970-07-01</td>\n",
       "      <td>35.4</td>\n",
       "    </tr>\n",
       "    <tr>\n",
       "      <th>3</th>\n",
       "      <td>1970-10-01</td>\n",
       "      <td>36.2</td>\n",
       "    </tr>\n",
       "    <tr>\n",
       "      <th>4</th>\n",
       "      <td>1971-01-01</td>\n",
       "      <td>37.4</td>\n",
       "    </tr>\n",
       "  </tbody>\n",
       "</table>\n",
       "</div>"
      ],
      "text/plain": [
       "         Date  Value\n",
       "0  1970-01-01   35.2\n",
       "1  1970-04-01   35.1\n",
       "2  1970-07-01   35.4\n",
       "3  1970-10-01   36.2\n",
       "4  1971-01-01   37.4"
      ]
     },
     "execution_count": 3,
     "metadata": {},
     "output_type": "execute_result"
    }
   ],
   "source": [
    "df = pd.read_csv(\"../data/gold_price_data.csv\")\n",
    "\n",
    "df.head()"
   ]
  },
  {
   "cell_type": "code",
   "execution_count": 4,
   "metadata": {},
   "outputs": [
    {
     "data": {
      "text/html": [
       "<div>\n",
       "<style scoped>\n",
       "    .dataframe tbody tr th:only-of-type {\n",
       "        vertical-align: middle;\n",
       "    }\n",
       "\n",
       "    .dataframe tbody tr th {\n",
       "        vertical-align: top;\n",
       "    }\n",
       "\n",
       "    .dataframe thead th {\n",
       "        text-align: right;\n",
       "    }\n",
       "</style>\n",
       "<table border=\"1\" class=\"dataframe\">\n",
       "  <thead>\n",
       "    <tr style=\"text-align: right;\">\n",
       "      <th></th>\n",
       "      <th>Date</th>\n",
       "      <th>Value</th>\n",
       "    </tr>\n",
       "  </thead>\n",
       "  <tbody>\n",
       "    <tr>\n",
       "      <th>0</th>\n",
       "      <td>1970-01-01</td>\n",
       "      <td>35.20</td>\n",
       "    </tr>\n",
       "    <tr>\n",
       "      <th>1</th>\n",
       "      <td>1970-04-01</td>\n",
       "      <td>35.10</td>\n",
       "    </tr>\n",
       "    <tr>\n",
       "      <th>2</th>\n",
       "      <td>1970-07-01</td>\n",
       "      <td>35.40</td>\n",
       "    </tr>\n",
       "    <tr>\n",
       "      <th>3</th>\n",
       "      <td>1970-10-01</td>\n",
       "      <td>36.20</td>\n",
       "    </tr>\n",
       "    <tr>\n",
       "      <th>4</th>\n",
       "      <td>1971-01-01</td>\n",
       "      <td>37.40</td>\n",
       "    </tr>\n",
       "    <tr>\n",
       "      <th>...</th>\n",
       "      <td>...</td>\n",
       "      <td>...</td>\n",
       "    </tr>\n",
       "    <tr>\n",
       "      <th>10782</th>\n",
       "      <td>2020-03-09</td>\n",
       "      <td>1672.50</td>\n",
       "    </tr>\n",
       "    <tr>\n",
       "      <th>10783</th>\n",
       "      <td>2020-03-10</td>\n",
       "      <td>1655.70</td>\n",
       "    </tr>\n",
       "    <tr>\n",
       "      <th>10784</th>\n",
       "      <td>2020-03-11</td>\n",
       "      <td>1653.75</td>\n",
       "    </tr>\n",
       "    <tr>\n",
       "      <th>10785</th>\n",
       "      <td>2020-03-12</td>\n",
       "      <td>1570.70</td>\n",
       "    </tr>\n",
       "    <tr>\n",
       "      <th>10786</th>\n",
       "      <td>2020-03-13</td>\n",
       "      <td>1562.80</td>\n",
       "    </tr>\n",
       "  </tbody>\n",
       "</table>\n",
       "<p>10787 rows × 2 columns</p>\n",
       "</div>"
      ],
      "text/plain": [
       "            Date    Value\n",
       "0     1970-01-01    35.20\n",
       "1     1970-04-01    35.10\n",
       "2     1970-07-01    35.40\n",
       "3     1970-10-01    36.20\n",
       "4     1971-01-01    37.40\n",
       "...          ...      ...\n",
       "10782 2020-03-09  1672.50\n",
       "10783 2020-03-10  1655.70\n",
       "10784 2020-03-11  1653.75\n",
       "10785 2020-03-12  1570.70\n",
       "10786 2020-03-13  1562.80\n",
       "\n",
       "[10787 rows x 2 columns]"
      ]
     },
     "execution_count": 4,
     "metadata": {},
     "output_type": "execute_result"
    }
   ],
   "source": [
    "df['Date'] = pd.to_datetime(df['Date'], errors='coerce')\n",
    "df"
   ]
  },
  {
   "cell_type": "code",
   "execution_count": 5,
   "metadata": {},
   "outputs": [],
   "source": [
    "days_to_predict = 500\n",
    "\n",
    "df_train = df['Value'][:len(df['Value'])-days_to_predict].values.reshape(-1,1)\n",
    "df_test  = df['Value'][len(df['Value'])-days_to_predict:].values.reshape(-1,1)\n",
    "\n",
    "scaler_train = MinMaxScaler(feature_range=(0, 1))\n",
    "scaled_train = scaler_train.fit_transform(df_train)\n",
    "\n",
    "scaler_test = MinMaxScaler(feature_range=(0, 1))\n",
    "scaled_test = scaler_test.fit_transform(df_test)"
   ]
  },
  {
   "cell_type": "code",
   "execution_count": 6,
   "metadata": {},
   "outputs": [],
   "source": [
    "def create_dataset(dataset, back_values=30):\n",
    "    \"\"\"\n",
    "    Cria conjuntos de dados para treinamento de modelos de séries temporais.\n",
    "\n",
    "    Args:\n",
    "        dataset (numpy.ndarray): O conjunto de dados de séries temporais.\n",
    "        back_values (int, optional): O número de valores anteriores na série a serem usados como entrada. O valor padrão é 30.\n",
    "\n",
    "    Returns:\n",
    "        numpy.ndarray, numpy.ndarray: Um par de arrays numpy contendo as sequências de entrada (X) e os rótulos correspondentes (Y).\n",
    "    \"\"\"\n",
    "    X, y = [], []\n",
    "\n",
    "    for i in range(len(dataset) - back_values):\n",
    "\n",
    "        # Cria sequências de entrada\n",
    "        X.append(dataset[i:(i + back_values), 0])\n",
    "\n",
    "        # Cria os rótulos correspondentes\n",
    "        y.append(dataset[i + back_values, 0])\n",
    "\n",
    "    return np.array(X), np.array(y)\n",
    "\n",
    "x_train, y_train = create_dataset(scaled_train)\n",
    "x_test, y_test = create_dataset(scaled_test)"
   ]
  },
  {
   "cell_type": "code",
   "execution_count": 7,
   "metadata": {},
   "outputs": [
    {
     "data": {
      "text/plain": [
       "(10257, 30)"
      ]
     },
     "execution_count": 7,
     "metadata": {},
     "output_type": "execute_result"
    }
   ],
   "source": [
    "x_train.shape"
   ]
  },
  {
   "cell_type": "code",
   "execution_count": 8,
   "metadata": {},
   "outputs": [
    {
     "data": {
      "text/plain": [
       "(470, 30)"
      ]
     },
     "execution_count": 8,
     "metadata": {},
     "output_type": "execute_result"
    }
   ],
   "source": [
    "x_test.shape"
   ]
  },
  {
   "cell_type": "code",
   "execution_count": 9,
   "metadata": {},
   "outputs": [],
   "source": [
    "x_train = np.reshape(x_train, (x_train.shape[0], 1, x_train.shape[1]))\n",
    "x_test = np.reshape(x_test, (x_test.shape[0], 1, x_test.shape[1]))"
   ]
  },
  {
   "cell_type": "markdown",
   "metadata": {},
   "source": [
    "### Definindo o Modelo (LSTM)"
   ]
  },
  {
   "cell_type": "code",
   "execution_count": 10,
   "metadata": {},
   "outputs": [
    {
     "name": "stdout",
     "output_type": "stream",
     "text": [
      "Trial 2 Complete [00h 00m 08s]\n",
      "val_loss: 4.331597328186035\n",
      "\n",
      "Best val_loss So Far: 2.3060388565063477\n",
      "Total elapsed time: 00h 00m 20s\n",
      "INFO:tensorflow:Oracle triggered exit\n"
     ]
    }
   ],
   "source": [
    "def root_mean_squared_error(y_true, y_pred):\n",
    "        return K.sqrt(K.mean(K.square(y_pred - y_true))) \n",
    "    \n",
    "def model_builder(hp):\n",
    "    model = Sequential()\n",
    "    model.add(LSTM(hp.Int('input_unit', min_value=32, max_value=512, step=32), return_sequences=True, input_shape= (x_train.shape[1], x_train.shape[2]), bias_regularizer = L1L2(0.009, 0.004)))\n",
    "    \n",
    "    for i in range(hp.Int('n_layers', 1, 4)):\n",
    "        model.add(LSTM(hp.Int(f'lstm_{i}_units',min_value=32,max_value=512,step=32),return_sequences=True))\n",
    "    \n",
    "    model.add(Dropout(hp.Float('Dropout_rate',min_value=0,max_value=0.5,step=0.05)))\n",
    "    model.add(Dense(1, activation=hp.Choice('dense_activation',values=['relu', 'sigmoid'],default='relu')))\n",
    "   \n",
    "    model.compile(loss=root_mean_squared_error, optimizer='adam', metrics = ['mse'])\n",
    "    \n",
    "    return model\n",
    "\n",
    "tuner = kt.RandomSearch(model_builder, objective='val_loss', max_trials = 2, executions_per_trial =1, directory = \"./gold1/\")\n",
    "\n",
    "callbacks = [keras.callbacks.EarlyStopping(monitor= 'val_loss', # Monitor the validation loss\n",
    "                                                     min_delta=0,    # until it doesn't change (or gets worse)\n",
    "                                                     patience=5,  # patience > 1 so it continutes if it is not consistently improving\n",
    "                                                     verbose=0, \n",
    "                                                     mode='auto')]\n",
    "\n",
    "tuner.search(x=x_train, y=y_train, epochs = 1, batch_size =512, validation_data=(x_test, y_test), callbacks=[callbacks],shuffle = True)"
   ]
  },
  {
   "cell_type": "code",
   "execution_count": 11,
   "metadata": {},
   "outputs": [
    {
     "name": "stdout",
     "output_type": "stream",
     "text": [
      "Results summary\n",
      "Results in ./gold1/untitled_project\n",
      "Showing 10 best trials\n",
      "Objective(name=\"val_loss\", direction=\"min\")\n",
      "\n",
      "Trial 0 summary\n",
      "Hyperparameters:\n",
      "input_unit: 160\n",
      "n_layers: 4\n",
      "lstm_0_units: 448\n",
      "Dropout_rate: 0.4\n",
      "dense_activation: sigmoid\n",
      "lstm_1_units: 32\n",
      "lstm_2_units: 32\n",
      "lstm_3_units: 32\n",
      "Score: 2.3060388565063477\n",
      "\n",
      "Trial 1 summary\n",
      "Hyperparameters:\n",
      "input_unit: 320\n",
      "n_layers: 2\n",
      "lstm_0_units: 128\n",
      "Dropout_rate: 0.05\n",
      "dense_activation: sigmoid\n",
      "lstm_1_units: 480\n",
      "lstm_2_units: 64\n",
      "lstm_3_units: 512\n",
      "Score: 4.331597328186035\n"
     ]
    }
   ],
   "source": [
    "tuner.results_summary()"
   ]
  },
  {
   "cell_type": "code",
   "execution_count": 12,
   "metadata": {},
   "outputs": [],
   "source": [
    "best_model = tuner.get_best_models(num_models=1)[0]"
   ]
  },
  {
   "cell_type": "code",
   "execution_count": 13,
   "metadata": {},
   "outputs": [
    {
     "name": "stdout",
     "output_type": "stream",
     "text": [
      "Model: \"sequential\"\n",
      "_________________________________________________________________\n",
      " Layer (type)                Output Shape              Param #   \n",
      "=================================================================\n",
      " lstm (LSTM)                 (None, 1, 160)            122240    \n",
      "                                                                 \n",
      " lstm_1 (LSTM)               (None, 1, 448)            1091328   \n",
      "                                                                 \n",
      " lstm_2 (LSTM)               (None, 1, 32)             61568     \n",
      "                                                                 \n",
      " lstm_3 (LSTM)               (None, 1, 32)             8320      \n",
      "                                                                 \n",
      " lstm_4 (LSTM)               (None, 1, 32)             8320      \n",
      "                                                                 \n",
      " dropout (Dropout)           (None, 1, 32)             0         \n",
      "                                                                 \n",
      " dense (Dense)               (None, 1, 1)              33        \n",
      "                                                                 \n",
      "=================================================================\n",
      "Total params: 1,291,809\n",
      "Trainable params: 1,291,809\n",
      "Non-trainable params: 0\n",
      "_________________________________________________________________\n"
     ]
    }
   ],
   "source": [
    "best_model.summary()"
   ]
  },
  {
   "cell_type": "code",
   "execution_count": 14,
   "metadata": {},
   "outputs": [],
   "source": [
    "history = best_model.fit(x=x_train, y=y_train, epochs=2, batch_size=128, validation_data=(x_test, y_test), shuffle=False, verbose=0)"
   ]
  },
  {
   "cell_type": "code",
   "execution_count": 15,
   "metadata": {},
   "outputs": [
    {
     "data": {
      "image/png": "[encoded data removed]",
      "text/plain": [
       "<Figure size 640x480 with 1 Axes>"
      ]
     },
     "metadata": {},
     "output_type": "display_data"
    }
   ],
   "source": [
    "plt.plot(history.history['loss'], label='train')\n",
    "plt.plot(history.history['val_loss'], label='test')\n",
    "plt.legend()\n",
    "plt.show()"
   ]
  },
  {
   "cell_type": "code",
   "execution_count": 16,
   "metadata": {},
   "outputs": [
    {
     "name": "stdout",
     "output_type": "stream",
     "text": [
      "15/15 [==============================] - 1s 6ms/step\n"
     ]
    }
   ],
   "source": [
    "predicted_gold_price = best_model.predict(x_test)"
   ]
  },
  {
   "cell_type": "code",
   "execution_count": 17,
   "metadata": {},
   "outputs": [],
   "source": [
    "predicted_gold_price = scaler_test.inverse_transform(predicted_gold_price.reshape(-1, 1))"
   ]
  },
  {
   "cell_type": "code",
   "execution_count": 18,
   "metadata": {},
   "outputs": [],
   "source": [
    "true = scaler_test.inverse_transform(y_test.reshape(-1, 1))"
   ]
  },
  {
   "cell_type": "code",
   "execution_count": 19,
   "metadata": {},
   "outputs": [
    {
     "data": {
      "image/png": "[encoded data removed]",
      "text/plain": [
       "<Figure size 640x480 with 1 Axes>"
      ]
     },
     "metadata": {},
     "output_type": "display_data"
    }
   ],
   "source": [
    "plt.plot(predicted_gold_price, label='predict')\n",
    "plt.plot(true, label='true')\n",
    "plt.legend()\n",
    "plt.show()"
   ]
  }
 ],
 "metadata": {
  "kernelspec": {
   "display_name": "base",
   "language": "python",
   "name": "python3"
  },
  "language_info": {
   "codemirror_mode": {
    "name": "ipython",
    "version": 3
   },
   "file_extension": ".py",
   "mimetype": "text/x-python",
   "name": "python",
   "nbconvert_exporter": "python",
   "pygments_lexer": "ipython3",
   "version": "3.9.13"
  },
  "orig_nbformat": 4
 },
 "nbformat": 4,
 "nbformat_minor": 2
}
